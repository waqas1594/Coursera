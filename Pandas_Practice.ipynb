{
 "cells": [
  {
   "cell_type": "markdown",
   "id": "6b715a78",
   "metadata": {},
   "source": [
    "# What kind of data does pandas handle?"
   ]
  },
  {
   "attachments": {
    "line+divider%20%282%29.png": {
     "image/png": "[encoded data removed]"
    }
   },
   "cell_type": "markdown",
   "id": "51ea72b7",
   "metadata": {},
   "source": [
    "![line+divider%20%282%29.png](attachment:line+divider%20%282%29.png)"
   ]
  },
  {
   "cell_type": "markdown",
   "id": "3069a762",
   "metadata": {},
   "source": [
    "I want to start using `pandas`"
   ]
  },
  {
   "cell_type": "code",
   "execution_count": null,
   "id": "9ea2651f",
   "metadata": {},
   "outputs": [],
   "source": [
    "import pandas as pd"
   ]
  },
  {
   "cell_type": "markdown",
   "id": "1e4a09a2",
   "metadata": {},
   "source": [
    "To load the pandas package and start working with it, import the package. The community agreed alias for pandas is `pd`, so loading pandas as `pd` is assumed standard practice for all of the pandas documentation."
   ]
  },
  {
   "cell_type": "markdown",
   "id": "bc4d3db3",
   "metadata": {},
   "source": [
    "## pandas data table representation"
   ]
  },
  {
   "attachments": {
    "images%20%281%29.png": {
     "image/png": "[encoded data removed]"
    }
   },
   "cell_type": "markdown",
   "id": "3dce3882",
   "metadata": {},
   "source": [
    "![images%20%281%29.png](attachment:images%20%281%29.png)"
   ]
  },
  {
   "cell_type": "markdown",
   "id": "325f48b0",
   "metadata": {},
   "source": [
    "I want to store passenger data of the Titanic. For a number of passengers, I know the name (characters), age (integers) and sex (male/female) data."
   ]
  },
  {
   "cell_type": "code",
   "execution_count": null,
   "id": "1633bdb9",
   "metadata": {},
   "outputs": [],
   "source": [
    "df = pd.DataFrame(\n",
    "    {\n",
    "        \"Name\": [\n",
    "            \"Braund, Mr. Owen Harris\",\n",
    "            \"Allen, Mr. William Henry\",\n",
    "            \"Bonnell, Miss. Elizabeth\",\n",
    "        ],\n",
    "        \"Age\": [22, 35, 58],\n",
    "        \"Sex\": [\"male\", \"male\", \"female\"],\n",
    "    }\n",
    ")"
   ]
  },
  {
   "cell_type": "code",
   "execution_count": null,
   "id": "02138e48",
   "metadata": {},
   "outputs": [],
   "source": [
    "df"
   ]
  },
  {
   "cell_type": "markdown",
   "id": "8ce0a23b",
   "metadata": {},
   "source": [
    "I’m just interested in working with the data in the column `Age`"
   ]
  },
  {
   "cell_type": "code",
   "execution_count": null,
   "id": "b6fc7804",
   "metadata": {},
   "outputs": [],
   "source": [
    "df[\"Age\"]"
   ]
  },
  {
   "cell_type": "markdown",
   "id": "10002b94",
   "metadata": {},
   "source": [
    "When selecting a single column of a pandas `DataFrame`, the result is a pandas `Series`. To select the column, use the column label in between square brackets `[]`."
   ]
  },
  {
   "cell_type": "markdown",
   "id": "a17ab44a",
   "metadata": {},
   "source": [
    "You can create a `Series` from scratch as well:"
   ]
  },
  {
   "cell_type": "code",
   "execution_count": null,
   "id": "1e3810f8",
   "metadata": {},
   "outputs": [],
   "source": [
    "ages = pd.Series([22, 35, 58], name=\"Age\")"
   ]
  },
  {
   "cell_type": "code",
   "execution_count": null,
   "id": "fe791280",
   "metadata": {},
   "outputs": [],
   "source": [
    "ages"
   ]
  },
  {
   "cell_type": "markdown",
   "id": "7a2bbef0",
   "metadata": {},
   "source": [
    "# Do something with a DataFrame or Series"
   ]
  },
  {
   "attachments": {
    "line+divider%20%282%29.png": {
     "image/png": "[encoded data removed]"
    }
   },
   "cell_type": "markdown",
   "id": "b53d8444",
   "metadata": {},
   "source": [
    "![line+divider%20%282%29.png](attachment:line+divider%20%282%29.png)"
   ]
  },
  {
   "cell_type": "markdown",
   "id": "d10ebd01",
   "metadata": {},
   "source": [
    "### I want to know the maximum Age of the passengers\n",
    "\n",
    "We can do this on the `DataFrame` by selecting the `Age` column and applying `max()`:"
   ]
  },
  {
   "cell_type": "code",
   "execution_count": null,
   "id": "512b61d4",
   "metadata": {},
   "outputs": [],
   "source": [
    "df[\"Age\"].max()"
   ]
  },
  {
   "cell_type": "markdown",
   "id": "e0d6c29d",
   "metadata": {},
   "source": [
    "Or to the `Series`:"
   ]
  },
  {
   "cell_type": "code",
   "execution_count": null,
   "id": "a3631bc5",
   "metadata": {},
   "outputs": [],
   "source": [
    "ages.max()"
   ]
  },
  {
   "cell_type": "markdown",
   "id": "e7d3695a",
   "metadata": {},
   "source": [
    "I’m interested in some basic statistics of the numerical data of my data table"
   ]
  },
  {
   "cell_type": "code",
   "execution_count": null,
   "id": "4c2bb4c5",
   "metadata": {},
   "outputs": [],
   "source": [
    "df.describe()"
   ]
  },
  {
   "cell_type": "markdown",
   "id": "53b72c5f",
   "metadata": {},
   "source": [
    "## How do I read and write tabular data?"
   ]
  },
  {
   "attachments": {
    "images.png": {
     "image/png": "[encoded data removed]"
    }
   },
   "cell_type": "markdown",
   "id": "671d4145",
   "metadata": {},
   "source": [
    "![images.png](attachment:images.png)"
   ]
  },
  {
   "cell_type": "markdown",
   "id": "c0d3ec0d",
   "metadata": {},
   "source": [
    "I want to analyze the Titanic passenger data, available as a `CSV` file."
   ]
  },
  {
   "cell_type": "code",
   "execution_count": null,
   "id": "a2a0cbef",
   "metadata": {},
   "outputs": [],
   "source": [
    "titanic = pd.read_csv(\"data/titanic.csv\")"
   ]
  },
  {
   "cell_type": "markdown",
   "id": "73c68674",
   "metadata": {},
   "source": [
    "pandas provides the `read_csv()` function to read data stored as a csv file into a pandas `DataFrame`. pandas supports many different file formats or data sources out of the box (csv, excel, sql, json, parquet, …), each of them with the prefix `read_*`."
   ]
  },
  {
   "cell_type": "markdown",
   "id": "7b0386de",
   "metadata": {},
   "source": [
    "Make sure to always have a check on the data after reading in the data. When displaying a `DataFrame`, the first and last 5 rows will be shown by default:"
   ]
  },
  {
   "cell_type": "code",
   "execution_count": null,
   "id": "652e73cc",
   "metadata": {},
   "outputs": [],
   "source": [
    "titanic"
   ]
  },
  {
   "cell_type": "markdown",
   "id": "6c620607",
   "metadata": {},
   "source": [
    "I want to see the first 8 rows of a pandas DataFrame."
   ]
  },
  {
   "cell_type": "code",
   "execution_count": null,
   "id": "5d51f6a0",
   "metadata": {},
   "outputs": [],
   "source": [
    "titanic.head(8)"
   ]
  },
  {
   "cell_type": "markdown",
   "id": "a546fdb1",
   "metadata": {},
   "source": [
    "A check on how pandas interpreted each of the column data types can be done by requesting the pandas `dtypes` attribute:"
   ]
  },
  {
   "cell_type": "code",
   "execution_count": null,
   "id": "d7e73ee9",
   "metadata": {},
   "outputs": [],
   "source": [
    "titanic.dtypes"
   ]
  },
  {
   "cell_type": "markdown",
   "id": "95eab016",
   "metadata": {},
   "source": [
    "My colleague requested the Titanic data as a spreadsheet."
   ]
  },
  {
   "cell_type": "code",
   "execution_count": null,
   "id": "04fabdf0",
   "metadata": {},
   "outputs": [],
   "source": [
    "titanic.to_excel(\"titanic.xlsx\", sheet_name=\"passengers\", index=False)"
   ]
  },
  {
   "cell_type": "markdown",
   "id": "bb85705f",
   "metadata": {},
   "source": [
    "The equivalent read function `read_excel()` will reload the data to a `DataFrame`:"
   ]
  },
  {
   "cell_type": "code",
   "execution_count": null,
   "id": "56c476c0",
   "metadata": {},
   "outputs": [],
   "source": [
    "titanic = pd.read_excel(\"titanic.xlsx\", sheet_name=\"passengers\")"
   ]
  },
  {
   "cell_type": "code",
   "execution_count": null,
   "id": "43fb3b80",
   "metadata": {},
   "outputs": [],
   "source": [
    "titanic.head()"
   ]
  },
  {
   "cell_type": "markdown",
   "id": "1519ad6f",
   "metadata": {},
   "source": [
    "I’m interested in a technical summary of a `DataFrame`"
   ]
  },
  {
   "cell_type": "code",
   "execution_count": null,
   "id": "260f195d",
   "metadata": {},
   "outputs": [],
   "source": [
    "titanic.info()"
   ]
  },
  {
   "attachments": {
    "line+divider%20%282%29.png": {
     "image/png": "[encoded data removed]"
    }
   },
   "cell_type": "markdown",
   "id": "25249e6f",
   "metadata": {},
   "source": [
    "![line+divider%20%282%29.png](attachment:line+divider%20%282%29.png)"
   ]
  },
  {
   "cell_type": "code",
   "execution_count": null,
   "id": "2e81c59b",
   "metadata": {},
   "outputs": [],
   "source": [
    "titanic = pd.read_csv(\"data/titanic.csv\")"
   ]
  },
  {
   "cell_type": "markdown",
   "id": "10e83aa2",
   "metadata": {},
   "source": [
    "## How do I select a subset of a `DataFrame`?"
   ]
  },
  {
   "attachments": {
    "line+divider%20%282%29.png": {
     "image/png": "[encoded data removed]"
    }
   },
   "cell_type": "markdown",
   "id": "510f432a",
   "metadata": {},
   "source": [
    "![line+divider%20%282%29.png](attachment:line+divider%20%282%29.png)"
   ]
  },
  {
   "cell_type": "markdown",
   "id": "c3061dae",
   "metadata": {},
   "source": [
    "## How do I select specific columns from a `DataFrame`?"
   ]
  },
  {
   "cell_type": "markdown",
   "id": "675f87e2",
   "metadata": {},
   "source": []
  },
  {
   "cell_type": "markdown",
   "id": "3d9c3cc9",
   "metadata": {},
   "source": [
    "I’m interested in the age of the Titanic passengers."
   ]
  },
  {
   "cell_type": "code",
   "execution_count": null,
   "id": "c935eb9a",
   "metadata": {},
   "outputs": [],
   "source": [
    "ages = titanic[\"Age\"]"
   ]
  },
  {
   "cell_type": "markdown",
   "id": "18e86efd",
   "metadata": {},
   "source": [
    "Each column in a `DataFrame` is a `Series`. As a single column is selected, the returned object is a pandas `Series`. We can verify this by checking the type of the output:"
   ]
  },
  {
   "cell_type": "code",
   "execution_count": null,
   "id": "815f2063",
   "metadata": {},
   "outputs": [],
   "source": [
    "type(titanic[\"Age\"])"
   ]
  },
  {
   "cell_type": "markdown",
   "id": "37ab73b3",
   "metadata": {},
   "source": [
    "And have a look at the `shape` of the output:"
   ]
  },
  {
   "cell_type": "code",
   "execution_count": null,
   "id": "6819d946",
   "metadata": {},
   "outputs": [],
   "source": [
    "titanic[\"Age\"].shape"
   ]
  },
  {
   "cell_type": "markdown",
   "id": "f73c3594",
   "metadata": {},
   "source": [
    "I’m interested in the age and sex of the Titanic passengers."
   ]
  },
  {
   "cell_type": "code",
   "execution_count": null,
   "id": "5d7a5ca4",
   "metadata": {},
   "outputs": [],
   "source": [
    "age_sex = titanic[[\"Age\", \"Sex\"]]"
   ]
  },
  {
   "cell_type": "code",
   "execution_count": null,
   "id": "6291aa58",
   "metadata": {},
   "outputs": [],
   "source": [
    "age_sex.head()"
   ]
  },
  {
   "cell_type": "markdown",
   "id": "52dd9804",
   "metadata": {},
   "source": [
    "The returned data type is a pandas DataFrame:"
   ]
  },
  {
   "cell_type": "code",
   "execution_count": null,
   "id": "57f0a5d0",
   "metadata": {},
   "outputs": [],
   "source": [
    "type(titanic[[\"Age\", \"Sex\"]])"
   ]
  },
  {
   "cell_type": "code",
   "execution_count": null,
   "id": "ff881da5",
   "metadata": {},
   "outputs": [],
   "source": [
    "titanic[[\"Age\", \"Sex\"]].shape"
   ]
  },
  {
   "cell_type": "code",
   "execution_count": null,
   "id": "cfbaa277",
   "metadata": {},
   "outputs": [],
   "source": []
  },
  {
   "cell_type": "code",
   "execution_count": null,
   "id": "4f59c943",
   "metadata": {},
   "outputs": [],
   "source": []
  }
 ],
 "metadata": {
  "kernelspec": {
   "display_name": "Python 3 (ipykernel)",
   "language": "python",
   "name": "python3"
  },
  "language_info": {
   "codemirror_mode": {
    "name": "ipython",
    "version": 3
   },
   "file_extension": ".py",
   "mimetype": "text/x-python",
   "name": "python",
   "nbconvert_exporter": "python",
   "pygments_lexer": "ipython3",
   "version": "3.9.13"
  }
 },
 "nbformat": 4,
 "nbformat_minor": 5
}
